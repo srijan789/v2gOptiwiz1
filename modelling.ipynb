{
 "cells": [
  {
   "cell_type": "code",
   "execution_count": 1,
   "metadata": {},
   "outputs": [],
   "source": [
    "import pandas as pd\n",
    "import numpy as np\n",
    "from sklearn.model_selection import train_test_split\n",
    "from sklearn.ensemble import RandomForestRegressor\n",
    "from sklearn.metrics import mean_squared_error, r2_score\n",
    "import datetime"
   ]
  },
  {
   "cell_type": "code",
   "execution_count": 2,
   "metadata": {},
   "outputs": [],
   "source": [
    "def generate_charging_data(n_samples=1000):\n",
    "    \"\"\"\n",
    "    Generate synthetic EV charging data with realistic patterns\n",
    "    \"\"\"\n",
    "    np.random.seed(42)\n",
    "    \n",
    "    # Generate timestamps across a month\n",
    "    start_date = datetime.datetime(2024, 1, 1)\n",
    "    timestamps = [start_date + datetime.timedelta(minutes=np.random.randint(0, 43200)) \n",
    "                 for _ in range(n_samples)]\n",
    "    \n",
    "    # Generate features that might affect charging duration\n",
    "    \n",
    "    parking_types = ['city parking lot', 'office space', 'Airport', 'mini charging station']\n",
    "    \n",
    "    data = {\n",
    "        'timestamp': timestamps,\n",
    "        'day_of_week': [t.weekday() for t in timestamps],\n",
    "        'hour_of_day': [t.hour for t in timestamps],\n",
    "        'battery_level_start': np.random.uniform(10, 80, n_samples),\n",
    "        'battery_capacity': np.random.choice([40, 60, 75, 85, 100], n_samples),  # kWh\n",
    "        'charging_power': np.random.choice([7.4, 11, 22, 50, 150], n_samples),   # kW\n",
    "        'is_workday': [1 if t.weekday() < 5 else 0 for t in timestamps],\n",
    "        'temperature': np.random.normal(20, 5, n_samples),  # Celsius\n",
    "        'parking_type': np.random.choice(parking_types, n_samples) \n",
    "    }\n",
    "    \n",
    "    # Calculate realistic connection duration based on features\n",
    "    duration_hours = []\n",
    "    for i in range(n_samples):\n",
    "        # Base duration depends on battery capacity and starting level\n",
    "        needed_charge = (0.8 * data['battery_capacity'][i]) - (data['battery_level_start'][i] * data['battery_capacity'][i] / 100)\n",
    "        charging_time = needed_charge / data['charging_power'][i]\n",
    "        \n",
    "        # Add behavioral factors\n",
    "        if data['is_workday'][i] and 8 <= data['hour_of_day'][i] <= 17:\n",
    "            # Work hours: people tend to stay longer\n",
    "            charging_time *= np.random.uniform(1.5, 2.5)\n",
    "        elif 22 <= data['hour_of_day'][i] or data['hour_of_day'][i] <= 5:\n",
    "            # Overnight charging\n",
    "            charging_time *= np.random.uniform(2.0, 3.0)\n",
    "        \n",
    "        # Add some random variation\n",
    "        charging_time *= np.random.normal(1, 0.1)\n",
    "        duration_hours.append(max(0.5, min(24, charging_time)))  # Clip between 0.5 and 24 hours\n",
    "    \n",
    "    data['connection_duration'] = duration_hours\n",
    "    \n",
    "    return pd.DataFrame(data)"
   ]
  },
  {
   "cell_type": "code",
   "execution_count": 3,
   "metadata": {},
   "outputs": [],
   "source": [
    "data = generate_charging_data(1000)"
   ]
  },
  {
   "cell_type": "code",
   "execution_count": 4,
   "metadata": {},
   "outputs": [
    {
     "data": {
      "text/html": [
       "<div>\n",
       "<style scoped>\n",
       "    .dataframe tbody tr th:only-of-type {\n",
       "        vertical-align: middle;\n",
       "    }\n",
       "\n",
       "    .dataframe tbody tr th {\n",
       "        vertical-align: top;\n",
       "    }\n",
       "\n",
       "    .dataframe thead th {\n",
       "        text-align: right;\n",
       "    }\n",
       "</style>\n",
       "<table border=\"1\" class=\"dataframe\">\n",
       "  <thead>\n",
       "    <tr style=\"text-align: right;\">\n",
       "      <th></th>\n",
       "      <th>timestamp</th>\n",
       "      <th>day_of_week</th>\n",
       "      <th>hour_of_day</th>\n",
       "      <th>battery_level_start</th>\n",
       "      <th>battery_capacity</th>\n",
       "      <th>charging_power</th>\n",
       "      <th>is_workday</th>\n",
       "      <th>temperature</th>\n",
       "      <th>parking_type</th>\n",
       "      <th>connection_duration</th>\n",
       "    </tr>\n",
       "  </thead>\n",
       "  <tbody>\n",
       "    <tr>\n",
       "      <th>0</th>\n",
       "      <td>2024-01-11 23:15:00</td>\n",
       "      <td>3</td>\n",
       "      <td>23</td>\n",
       "      <td>33.443393</td>\n",
       "      <td>60</td>\n",
       "      <td>7.4</td>\n",
       "      <td>1</td>\n",
       "      <td>11.697587</td>\n",
       "      <td>city parking lot</td>\n",
       "      <td>10.211174</td>\n",
       "    </tr>\n",
       "    <tr>\n",
       "      <th>1</th>\n",
       "      <td>2024-01-01 14:20:00</td>\n",
       "      <td>0</td>\n",
       "      <td>14</td>\n",
       "      <td>19.749045</td>\n",
       "      <td>100</td>\n",
       "      <td>50.0</td>\n",
       "      <td>1</td>\n",
       "      <td>29.098197</td>\n",
       "      <td>Airport</td>\n",
       "      <td>3.285224</td>\n",
       "    </tr>\n",
       "    <tr>\n",
       "      <th>2</th>\n",
       "      <td>2024-01-27 11:58:00</td>\n",
       "      <td>5</td>\n",
       "      <td>11</td>\n",
       "      <td>65.581763</td>\n",
       "      <td>100</td>\n",
       "      <td>22.0</td>\n",
       "      <td>0</td>\n",
       "      <td>26.032760</td>\n",
       "      <td>city parking lot</td>\n",
       "      <td>0.634272</td>\n",
       "    </tr>\n",
       "    <tr>\n",
       "      <th>3</th>\n",
       "      <td>2024-01-08 20:04:00</td>\n",
       "      <td>0</td>\n",
       "      <td>20</td>\n",
       "      <td>53.405093</td>\n",
       "      <td>100</td>\n",
       "      <td>11.0</td>\n",
       "      <td>1</td>\n",
       "      <td>33.750536</td>\n",
       "      <td>office space</td>\n",
       "      <td>2.294966</td>\n",
       "    </tr>\n",
       "    <tr>\n",
       "      <th>4</th>\n",
       "      <td>2024-01-05 08:25:00</td>\n",
       "      <td>4</td>\n",
       "      <td>8</td>\n",
       "      <td>47.342276</td>\n",
       "      <td>60</td>\n",
       "      <td>7.4</td>\n",
       "      <td>1</td>\n",
       "      <td>26.691819</td>\n",
       "      <td>office space</td>\n",
       "      <td>6.265773</td>\n",
       "    </tr>\n",
       "  </tbody>\n",
       "</table>\n",
       "</div>"
      ],
      "text/plain": [
       "            timestamp  day_of_week  hour_of_day  battery_level_start  \\\n",
       "0 2024-01-11 23:15:00            3           23            33.443393   \n",
       "1 2024-01-01 14:20:00            0           14            19.749045   \n",
       "2 2024-01-27 11:58:00            5           11            65.581763   \n",
       "3 2024-01-08 20:04:00            0           20            53.405093   \n",
       "4 2024-01-05 08:25:00            4            8            47.342276   \n",
       "\n",
       "   battery_capacity  charging_power  is_workday  temperature  \\\n",
       "0                60             7.4           1    11.697587   \n",
       "1               100            50.0           1    29.098197   \n",
       "2               100            22.0           0    26.032760   \n",
       "3               100            11.0           1    33.750536   \n",
       "4                60             7.4           1    26.691819   \n",
       "\n",
       "       parking_type  connection_duration  \n",
       "0  city parking lot            10.211174  \n",
       "1           Airport             3.285224  \n",
       "2  city parking lot             0.634272  \n",
       "3      office space             2.294966  \n",
       "4      office space             6.265773  "
      ]
     },
     "execution_count": 4,
     "metadata": {},
     "output_type": "execute_result"
    }
   ],
   "source": [
    "data.head()"
   ]
  },
  {
   "cell_type": "code",
   "execution_count": 5,
   "metadata": {},
   "outputs": [],
   "source": [
    "# one hot encode the parking type\n",
    "data = pd.get_dummies(data, columns=['parking_type'])"
   ]
  },
  {
   "cell_type": "code",
   "execution_count": 6,
   "metadata": {},
   "outputs": [
    {
     "data": {
      "text/plain": [
       "Index(['timestamp', 'day_of_week', 'hour_of_day', 'battery_level_start',\n",
       "       'battery_capacity', 'charging_power', 'is_workday', 'temperature',\n",
       "       'connection_duration', 'parking_type_Airport',\n",
       "       'parking_type_city parking lot', 'parking_type_mini charging station',\n",
       "       'parking_type_office space'],\n",
       "      dtype='object')"
      ]
     },
     "execution_count": 6,
     "metadata": {},
     "output_type": "execute_result"
    }
   ],
   "source": [
    "data.columns"
   ]
  },
  {
   "cell_type": "code",
   "execution_count": 7,
   "metadata": {},
   "outputs": [],
   "source": [
    "\n",
    "def train_prediction_model(df):\n",
    "    \"\"\"\n",
    "    Train a Random Forest model to predict connection duration\n",
    "    \"\"\"\n",
    "    # Prepare features\n",
    "    features = ['day_of_week', 'hour_of_day', 'battery_level_start', \n",
    "                'battery_capacity', 'charging_power', 'is_workday', 'temperature', 'parking_type_Airport',\n",
    "       'parking_type_city parking lot', 'parking_type_mini charging station',\n",
    "       'parking_type_office space']\n",
    "    \n",
    "    X = df[features]\n",
    "    y = df['connection_duration']\n",
    "    \n",
    "    # Split data\n",
    "    X_train, X_test, y_train, y_test = train_test_split(X, y, test_size=0.2, random_state=42)\n",
    "    \n",
    "    # Train model\n",
    "    model = RandomForestRegressor(n_estimators=100, random_state=42)\n",
    "    model.fit(X_train, y_train)\n",
    "    \n",
    "    # Evaluate model\n",
    "    y_pred = model.predict(X_test)\n",
    "    mse = mean_squared_error(y_test, y_pred)\n",
    "    r2 = r2_score(y_test, y_pred)\n",
    "    \n",
    "    # Feature importance\n",
    "    importance = pd.DataFrame({\n",
    "        'feature': features,\n",
    "        'importance': model.feature_importances_\n",
    "    }).sort_values('importance', ascending=False)\n",
    "    \n",
    "    return model, mse, r2, importance, X_test, y_test, y_pred"
   ]
  },
  {
   "cell_type": "code",
   "execution_count": 8,
   "metadata": {},
   "outputs": [],
   "source": [
    "df = data.copy()"
   ]
  },
  {
   "cell_type": "code",
   "execution_count": 9,
   "metadata": {},
   "outputs": [],
   "source": [
    "model, mse, r2, importance, X_test, y_test, y_pred = train_prediction_model(df)"
   ]
  },
  {
   "cell_type": "code",
   "execution_count": 10,
   "metadata": {},
   "outputs": [
    {
     "name": "stdout",
     "output_type": "stream",
     "text": [
      "Mean squared error: 2.53\n"
     ]
    }
   ],
   "source": [
    "print(f'Mean squared error: {mse:.2f}')"
   ]
  },
  {
   "cell_type": "code",
   "execution_count": 12,
   "metadata": {},
   "outputs": [
    {
     "name": "stdout",
     "output_type": "stream",
     "text": [
      "Predicted connection duration: 1.23 hours\n"
     ]
    }
   ],
   "source": [
    "# make a prediction for a randomly generated sample\n",
    "sample = pd.DataFrame({\n",
    "    'day_of_week': [3],\n",
    "    'hour_of_day': [10],\n",
    "    'battery_level_start': [50],\n",
    "    'battery_capacity': [60],\n",
    "    'charging_power': [22],\n",
    "    'is_workday': [1],\n",
    "    'temperature': [25],\n",
    "    'parking_type_Airport': [0],\n",
    "    'parking_type_city parking lot': [1],\n",
    "    'parking_type_mini charging station': [0],\n",
    "    'parking_type_office space': [0]\n",
    "})\n",
    "pred = model.predict(sample)\n",
    "print(f'Predicted connection duration: {pred[0]:.2f} hours')"
   ]
  },
  {
   "cell_type": "code",
   "execution_count": 13,
   "metadata": {},
   "outputs": [],
   "source": [
    "# save the model\n",
    "import pickle\n",
    "\n",
    "with open('model.pkl', 'wb') as f:\n",
    "    pickle.dump(model, f)"
   ]
  },
  {
   "cell_type": "code",
   "execution_count": 14,
   "metadata": {},
   "outputs": [],
   "source": [
    "# load the model and make a prediction\n",
    "with open('model.pkl', 'rb') as f:\n",
    "    model = pickle.load(f)\n",
    "    \n",
    "pred = model.predict(sample)\n"
   ]
  },
  {
   "cell_type": "code",
   "execution_count": 15,
   "metadata": {},
   "outputs": [
    {
     "data": {
      "text/plain": [
       "array([1.2288934])"
      ]
     },
     "execution_count": 15,
     "metadata": {},
     "output_type": "execute_result"
    }
   ],
   "source": [
    "pred"
   ]
  },
  {
   "cell_type": "code",
   "execution_count": null,
   "metadata": {},
   "outputs": [],
   "source": []
  }
 ],
 "metadata": {
  "kernelspec": {
   "display_name": ".venv",
   "language": "python",
   "name": "python3"
  },
  "language_info": {
   "codemirror_mode": {
    "name": "ipython",
    "version": 3
   },
   "file_extension": ".py",
   "mimetype": "text/x-python",
   "name": "python",
   "nbconvert_exporter": "python",
   "pygments_lexer": "ipython3",
   "version": "3.13.0"
  }
 },
 "nbformat": 4,
 "nbformat_minor": 2
}
